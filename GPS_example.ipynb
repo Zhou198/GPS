{
 "cells": [
  {
   "cell_type": "markdown",
   "metadata": {
    "collapsed": false,
    "jupyter": {
     "outputs_hidden": false
    }
   },
   "source": [
    "# Import Packages & Modules"
   ]
  },
  {
   "cell_type": "code",
   "execution_count": 2,
   "metadata": {
    "collapsed": true,
    "jupyter": {
     "outputs_hidden": true
    },
    "ExecuteTime": {
     "end_time": "2024-01-02T18:13:43.498719Z",
     "start_time": "2024-01-02T18:13:42.903349Z"
    }
   },
   "outputs": [],
   "source": [
    "import numpy as np\n",
    "import pandas as pd\n",
    "from GPS import GPSclassifier\n",
    "from sklearn.model_selection import train_test_split, ShuffleSplit"
   ]
  },
  {
   "cell_type": "markdown",
   "metadata": {
    "collapsed": false,
    "jupyter": {
     "outputs_hidden": false
    }
   },
   "source": [
    "# Read Raw Datasets"
   ]
  },
  {
   "cell_type": "code",
   "execution_count": 3,
   "metadata": {
    "collapsed": false,
    "jupyter": {
     "outputs_hidden": false
    },
    "ExecuteTime": {
     "end_time": "2024-01-02T18:13:45.470432Z",
     "start_time": "2024-01-02T18:13:45.456412Z"
    }
   },
   "outputs": [],
   "source": [
    "trcaData = pd.read_csv(\"trca1.csv\").values  # normal data from the source distribution P\n",
    "testSet = pd.read_csv(\"test1.csv\").values   # normal data from the target distribution Q\n",
    "outliSet = pd.read_csv(\"outli1.csv\").values # OOD data from the target distribution Q"
   ]
  },
  {
   "cell_type": "code",
   "execution_count": 4,
   "metadata": {
    "collapsed": false,
    "jupyter": {
     "outputs_hidden": false
    },
    "ExecuteTime": {
     "end_time": "2024-01-02T18:13:53.760249Z",
     "start_time": "2024-01-02T18:13:53.755915Z"
    }
   },
   "outputs": [
    {
     "data": {
      "text/plain": "array([[ 1.00000000e+00, -3.58632564e+00,  3.82818878e-01, ...,\n         1.98771852e-01,  4.68971965e-02,  3.49203273e-02],\n       [ 1.00000000e+00, -2.24117001e+00, -9.61517544e-01, ...,\n         1.08096230e-02, -2.71389503e-03,  9.98701395e-02],\n       [ 1.00000000e+00, -3.30252856e+00,  7.73251744e-01, ...,\n        -1.96465995e-02,  3.55094842e-02, -1.96924847e-02],\n       ...,\n       [ 4.00000000e+00,  5.15957951e-01,  4.28542542e+00, ...,\n        -6.91182355e-02,  8.22825906e-02, -1.68219368e-02],\n       [ 4.00000000e+00,  7.29750839e+00,  6.25966579e+00, ...,\n         9.55305636e-02, -1.50968325e-01,  1.24967783e-01],\n       [ 4.00000000e+00,  9.71262479e-01,  3.61486814e+00, ...,\n         2.30029906e-02,  2.87023927e-03,  7.18026818e-02]])"
     },
     "execution_count": 4,
     "metadata": {},
     "output_type": "execute_result"
    }
   ],
   "source": [
    "# The first col is the label column\n",
    "trcaData"
   ]
  },
  {
   "cell_type": "markdown",
   "metadata": {
    "collapsed": false,
    "jupyter": {
     "outputs_hidden": false
    }
   },
   "source": [
    "# Split Datasets"
   ]
  },
  {
   "cell_type": "code",
   "execution_count": 5,
   "metadata": {
    "collapsed": false,
    "jupyter": {
     "outputs_hidden": false
    },
    "ExecuteTime": {
     "end_time": "2024-01-02T18:13:56.030283Z",
     "start_time": "2024-01-02T18:13:56.023780Z"
    }
   },
   "outputs": [],
   "source": [
    "np.random.seed(1234)\n",
    "\n",
    "K = len(np.unique(trcaData[:, 0]))\n",
    "\n",
    "# Combine normal and OOD data to form the distribution Q. Here label 0 indicates OOD data\n",
    "unlabSetAll, unLAll = np.vstack((testSet[:, 1:], outliSet)), np.hstack((testSet[:, 0], [0] * len(outliSet)))\n",
    "\n",
    "# Randomly split unlabSetAll into 1) the unlabeled data used in model training + calibration, and 2) the test data for model evaluation\n",
    "inOutrs = ShuffleSplit(n_splits=1, train_size=min(len(unlabSetAll) // 2, len(trcaData) // K))\n",
    "trcaOutIdx, holdoutIdx = next(inOutrs.split(unLAll))\n",
    "\n",
    "# Further combine labeled normal data and unlabeled data for model training + calibration.\n",
    "newtrcaData = np.vstack((trcaData[:, 1:], unlabSetAll[trcaOutIdx]))\n",
    "\n",
    "# !!! During the training + calibration stage, we abuse label 0 to exclusively distinguish unlabeled data from label data.\n",
    "# You can use other annotation, say -1, to avoid the label 0 previously used for OOD data (but you must accordingly revise some code, e.g., trainSet[trL == 0] changes to trainSet[trL == -1] in GPS.py line 38)\n",
    "newtrcaL = np.concatenate([trcaData[:, 0], [0] * len(trcaOutIdx)])\n",
    "\n",
    "# Split the combined training data into the training set and calibration set\n",
    "trainSet, calibSet, trL, caL = train_test_split(newtrcaData, newtrcaL, test_size=0.5, stratify=newtrcaL)\n",
    "calibLabelSet = np.hstack([caL.reshape(-1, 1), calibSet])"
   ]
  },
  {
   "cell_type": "markdown",
   "metadata": {
    "collapsed": false,
    "jupyter": {
     "outputs_hidden": false
    }
   },
   "source": [
    "# Train GPS"
   ]
  },
  {
   "cell_type": "code",
   "execution_count": 6,
   "metadata": {
    "collapsed": false,
    "jupyter": {
     "outputs_hidden": false
    },
    "ExecuteTime": {
     "end_time": "2024-01-02T18:13:58.950428Z",
     "start_time": "2024-01-02T18:13:58.945649Z"
    }
   },
   "outputs": [],
   "source": [
    "# Set the grids for tuning parameters: C in eq(5), and percentile of pairwise distance to estimate sigma in the Gaussian kernel\n",
    "candC1 = [0.1, 1, 10]\n",
    "candSigqtl = [25, 50, 75]"
   ]
  },
  {
   "cell_type": "code",
   "execution_count": 7,
   "metadata": {
    "collapsed": false,
    "jupyter": {
     "outputs_hidden": false
    },
    "ExecuteTime": {
     "end_time": "2024-01-02T18:14:00.843737Z",
     "start_time": "2024-01-02T18:14:00.840279Z"
    }
   },
   "outputs": [],
   "source": [
    "myGPS = GPSclassifier(alpha=0.05, K=K, calibSet=calibLabelSet, candSigqtl=candSigqtl, candC1=candC1)"
   ]
  },
  {
   "cell_type": "code",
   "execution_count": 8,
   "metadata": {
    "collapsed": false,
    "jupyter": {
     "outputs_hidden": false
    },
    "ExecuteTime": {
     "end_time": "2024-01-02T18:14:33.855823Z",
     "start_time": "2024-01-02T18:14:02.019322Z"
    }
   },
   "outputs": [
    {
     "name": "stdout",
     "output_type": "stream",
     "text": [
      "start to train class 1\n",
      "start to train class 2\n",
      "start to train class 3\n",
      "start to train class 4\n"
     ]
    }
   ],
   "source": [
    "myGPS.train(trainSet, trL)"
   ]
  },
  {
   "cell_type": "markdown",
   "metadata": {
    "collapsed": false,
    "jupyter": {
     "outputs_hidden": false
    }
   },
   "source": [
    "# GPS Evaluation"
   ]
  },
  {
   "cell_type": "code",
   "execution_count": 9,
   "metadata": {
    "collapsed": false,
    "jupyter": {
     "outputs_hidden": false
    },
    "ExecuteTime": {
     "end_time": "2024-01-02T18:14:34.943591Z",
     "start_time": "2024-01-02T18:14:34.939717Z"
    }
   },
   "outputs": [],
   "source": [
    "unlabelSet_hd, lb_hd = unlabSetAll[holdoutIdx], unLAll[holdoutIdx]"
   ]
  },
  {
   "cell_type": "code",
   "execution_count": 10,
   "metadata": {
    "collapsed": false,
    "jupyter": {
     "outputs_hidden": false
    },
    "ExecuteTime": {
     "end_time": "2024-01-02T18:14:37.301324Z",
     "start_time": "2024-01-02T18:14:37.189409Z"
    }
   },
   "outputs": [],
   "source": [
    "# Prediction set for test points\n",
    "pred_set = myGPS.test(unlabelSet_hd) >= 0"
   ]
  },
  {
   "cell_type": "code",
   "execution_count": 11,
   "metadata": {
    "ExecuteTime": {
     "end_time": "2024-01-02T18:14:39.159978Z",
     "start_time": "2024-01-02T18:14:39.151281Z"
    }
   },
   "outputs": [
    {
     "data": {
      "text/plain": "array([2, 1, 2, ..., 1, 1, 2])"
     },
     "execution_count": 11,
     "metadata": {},
     "output_type": "execute_result"
    }
   ],
   "source": [
    "# Prediction set size for test points\n",
    "pred_set_size = pred_set.sum(1)\n",
    "pred_set_size"
   ]
  },
  {
   "cell_type": "code",
   "execution_count": 12,
   "metadata": {
    "collapsed": false,
    "jupyter": {
     "outputs_hidden": false
    },
    "ExecuteTime": {
     "end_time": "2024-01-02T18:14:42.221954Z",
     "start_time": "2024-01-02T18:14:42.217521Z"
    }
   },
   "outputs": [
    {
     "data": {
      "text/plain": "[0.9724770642201835, 1.0, 0.986784140969163, 0.981042654028436]"
     },
     "execution_count": 12,
     "metadata": {},
     "output_type": "execute_result"
    }
   ],
   "source": [
    "# Class-specific accuracy\n",
    "class_acc = [pred_set[lb_hd == k, k - 1].mean() for k in range(1, 1 + K)]\n",
    "class_acc"
   ]
  },
  {
   "cell_type": "code",
   "execution_count": 13,
   "metadata": {
    "collapsed": false,
    "jupyter": {
     "outputs_hidden": false
    },
    "ExecuteTime": {
     "end_time": "2024-01-02T18:14:43.984612Z",
     "start_time": "2024-01-02T18:14:43.981119Z"
    }
   },
   "outputs": [
    {
     "data": {
      "text/plain": "0.9819494584837545"
     },
     "execution_count": 13,
     "metadata": {},
     "output_type": "execute_result"
    }
   ],
   "source": [
    "# OOD detection rate\n",
    "det_rate = np.mean(pred_set[lb_hd == 0].sum(1) == 0)\n",
    "det_rate\n"
   ]
  }
 ],
 "metadata": {
  "kernelspec": {
   "display_name": "Python 3 (ipykernel)",
   "language": "python",
   "name": "python3"
  },
  "language_info": {
   "codemirror_mode": {
    "name": "ipython",
    "version": 3
   },
   "file_extension": ".py",
   "mimetype": "text/x-python",
   "name": "python",
   "nbconvert_exporter": "python",
   "pygments_lexer": "ipython3",
   "version": "3.10.5"
  }
 },
 "nbformat": 4,
 "nbformat_minor": 4
}
